{
  "nbformat": 4,
  "nbformat_minor": 0,
  "metadata": {
    "colab": {
      "name": "Saali-Module C-RootFinding.ipynb",
      "provenance": [],
      "authorship_tag": "ABX9TyMGuwdEqS+KsbqC0b2P1Qr0",
      "include_colab_link": true
    },
    "kernelspec": {
      "name": "python3",
      "display_name": "Python 3"
    },
    "language_info": {
      "name": "python"
    }
  },
  "cells": [
    {
      "cell_type": "markdown",
      "metadata": {
        "id": "view-in-github",
        "colab_type": "text"
      },
      "source": [
        "<a href=\"https://colab.research.google.com/github/nsaali/ASU-Graduate-Courses/blob/main/Saali_Module_C_RootFinding.ipynb\" target=\"_parent\"><img src=\"https://colab.research.google.com/assets/colab-badge.svg\" alt=\"Open In Colab\"/></a>"
      ]
    },
    {
      "cell_type": "code",
      "execution_count": 12,
      "metadata": {
        "id": "nqxf01eu8sWJ",
        "colab": {
          "base_uri": "https://localhost:8080/",
          "height": 595
        },
        "outputId": "9dcb5a5e-b238-4c7d-91f6-4dfe65dc7160"
      },
      "outputs": [
        {
          "output_type": "display_data",
          "data": {
            "image/png": "[encoded data removed]",
            "text/plain": [
              "<Figure size 432x288 with 1 Axes>"
            ]
          },
          "metadata": {
            "needs_background": "light"
          }
        },
        {
          "output_type": "stream",
          "name": "stdout",
          "text": [
            "f(X2) =  -434768.24799999996\n",
            "f(X2) =  -127737.77445489888\n",
            "f(X2) =  -37073.61836463809\n",
            "f(X2) =  -10415.87986576962\n",
            "f(X2) =  -2666.0356354714268\n",
            "f(X2) =  -512.5867088478044\n",
            "f(X2) =  -41.49743836496418\n",
            "f(X2) =  -0.36829353404527865\n",
            "Root Found: x =  -14.450641579512446\n",
            "f(X2) =  -257.76800000000003\n",
            "f(X2) =  282.87711724071437\n",
            "f(X2) =  36.39434987467962\n",
            "f(X2) =  1.0147782971935158\n",
            "Root Found: x =  5.571655491497179\n",
            "f(X2) =  -239.348\n",
            "f(X2) =  117.27380163593185\n",
            "f(X2) =  4.877512469726341\n",
            "f(X2) =  0.012164639767192398\n",
            "Root Found: x =  -0.6210104340251439\n"
          ]
        }
      ],
      "source": [
        "# Nick Saali - Module C - Root Finding (Specifically Newton's Method)\n",
        "# Sources : computerscienceai.com, YouTube (Jeffrey Chasnov),\n",
        "#             pythonnumericalmethods.berkeley.edu, \n",
        "#               \"How to be a Quantitative Ecologist\" Textbook by Jason Matthiopoulos\n",
        "\n",
        "# This method gives the fastest conversions for finding roots (zeroes) \n",
        "#   of the functions of interest. \n",
        "# Start with some single initial value (our initial guess which is hopefully close to the root) \n",
        "#   and then use Newton's calculus to find the slope of the tangent line of our curve / function\n",
        "#   and then where this tangent line intersects the x-axis, this becomes our next point. \n",
        "#   Each time we repeat (iterate) this process, the straight (tangent) line to\n",
        "#   our curve becomes more and more accurate with each iteration. \n",
        "\n",
        "# We first need an intial guess (xi) and the function f(x) whose root \n",
        "#   we want to find using Newton-Raphson Method.  \n",
        "\n",
        "def derivative(f, x, h):\n",
        "   return (f(x+h) - f(x-h)) / (2.0*h) \n",
        "\n",
        "def quadratic(x):\n",
        "   return 2*x**3 + 19*x**2 - 150*x - 100   # Polynomial Equation from Ecology Text listed above\n",
        "\n",
        "# Solve / Iteration with While Loop\n",
        "def solve(f, x0, h):\n",
        "    X = x0\n",
        "    X2 = X + 10* h  \n",
        "    while (abs(X - X2) > h): \n",
        "        Y = f(X2)        \n",
        "      # This part of the loop should show each iteration              \n",
        "        print (\"f(X2) = \", Y )    \n",
        "        X = X2\n",
        "        X2 = X - Y / derivative(f, X2, h) \n",
        "    return X2 \n",
        "\n",
        "# Solve / Print Results with each interation \n",
        "# The Ecology Textbook shows 3 solutions to this polynomial equation so I played around with\n",
        "#  different initial guess values until I found all three solutions.\n",
        "# What I learned here is that the algorithm will jump to the closest root to minimize the\n",
        "#  number of interations to get to a solution.\n",
        "\n",
        "# We can also look at the plot of this function beforehand \n",
        "#  to make a better initial guess. \n",
        "\n",
        "import numpy as np\n",
        "from matplotlib import pyplot as plt\n",
        "\n",
        "def my_polynomial(x, coeffs):\n",
        "    o = len(coeffs)\n",
        "    y = 0 \n",
        "    for i in range(o):\n",
        "        y += coeffs[i]*x**i\n",
        "    return y\n",
        "\n",
        "x = np.linspace(0, 9, 10)\n",
        "coefficients = [100, 150, 19, 2,]\n",
        "plt.plot(x, my_polynomial(x, coefficients))\n",
        "plt.show()\n",
        "\n",
        "Root1 = solve(quadratic, -64, 0.01)    \n",
        "print (\"Root Found: x = \", Root1 )      \n",
        "\n",
        "Root2 = solve(quadratic, 4, 0.01)    \n",
        "print (\"Root Found: x = \", Root2 )   \n",
        "\n",
        "Root3 = solve(quadratic, 1, 0.01)    \n",
        "print (\"Root Found: x = \", Root3 )   \n",
        "\n",
        "\n",
        "\n",
        "\n",
        "\n",
        "\n",
        "\n"
      ]
    }
  ]
}