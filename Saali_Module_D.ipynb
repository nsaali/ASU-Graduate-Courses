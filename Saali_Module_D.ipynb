{
  "nbformat": 4,
  "nbformat_minor": 0,
  "metadata": {
    "colab": {
      "name": "Saali-Module-D.ipynb",
      "provenance": [],
      "authorship_tag": "ABX9TyMhq1RIhG8Lyjm/PDDtMnTZ",
      "include_colab_link": true
    },
    "kernelspec": {
      "name": "python3",
      "display_name": "Python 3"
    },
    "language_info": {
      "name": "python"
    }
  },
  "cells": [
    {
      "cell_type": "markdown",
      "metadata": {
        "id": "view-in-github",
        "colab_type": "text"
      },
      "source": [
        "<a href=\"https://colab.research.google.com/github/nsaali/ASU-Graduate-Courses/blob/main/Saali_Module_D.ipynb\" target=\"_parent\"><img src=\"https://colab.research.google.com/assets/colab-badge.svg\" alt=\"Open In Colab\"/></a>"
      ]
    },
    {
      "cell_type": "code",
      "execution_count": 42,
      "metadata": {
        "colab": {
          "base_uri": "https://localhost:8080/"
        },
        "id": "KV-YKB_g1AYR",
        "outputId": "cc48276f-9a2d-4595-942d-7e12c2ab050d"
      },
      "outputs": [
        {
          "output_type": "execute_result",
          "data": {
            "text/plain": [
              "-1031400.0"
            ]
          },
          "metadata": {},
          "execution_count": 42
        }
      ],
      "source": [
        "# Nick Saali Module D (Basics and Loops)\n",
        "\n",
        "# Some Usage as a Calculator\n",
        "\n",
        "import math\n",
        "\n",
        "# Installing Packages, Importing information relevant to my project and research\n",
        "\n",
        "##     !pip install chemicals  # Already Installed \n",
        "\n",
        "from chemicals import CAS_from_any, MW, Tb, Tm, Tc, Pc, Vc, Hfus, Hfs, Hfl, Hfg, S0s, S0l, S0g\n",
        "CAS_TFA = CAS_from_any('76-05-1')\n",
        "Tb(CAS_TFA)\n",
        "MW(CAS_TFA)\n",
        "Tm(CAS_TFA)\n",
        "Tc(CAS_TFA)\n",
        "Pc(CAS_TFA)\n",
        "Vc(CAS_TFA)\n",
        "Hfus(CAS_TFA)\n",
        "Hfs(CAS_TFA)\n",
        "Hfl(CAS_TFA)\n",
        "Hfg(CAS_TFA)\n",
        "\n",
        "\n",
        "\n",
        "\n"
      ]
    }
  ]
}