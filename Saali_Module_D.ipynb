{
  "nbformat": 4,
  "nbformat_minor": 0,
  "metadata": {
    "colab": {
      "name": "Saali-Module-D.ipynb",
      "provenance": [],
      "authorship_tag": "ABX9TyOlAWZslp8b9F30wUG9bbSx",
      "include_colab_link": true
    },
    "kernelspec": {
      "name": "python3",
      "display_name": "Python 3"
    },
    "language_info": {
      "name": "python"
    }
  },
  "cells": [
    {
      "cell_type": "markdown",
      "metadata": {
        "id": "view-in-github",
        "colab_type": "text"
      },
      "source": [
        "<a href=\"https://colab.research.google.com/github/nsaali/ASU-Graduate-Courses/blob/main/Saali_Module_D.ipynb\" target=\"_parent\"><img src=\"https://colab.research.google.com/assets/colab-badge.svg\" alt=\"Open In Colab\"/></a>"
      ]
    },
    {
      "cell_type": "code",
      "execution_count": 32,
      "metadata": {
        "id": "KV-YKB_g1AYR"
      },
      "outputs": [],
      "source": [
        "# Nick Saali Module D (Basics and Loops)\n",
        "\n",
        "# Some Usage as a Calculator\n",
        "\n",
        "import math\n",
        "\n",
        "# Installing Packages, Importing information relevant to my project and research\n",
        "\n",
        "#    !pip install chemicals \n",
        "\n",
        "CAS_TFA = CAS_from_any('Trifluoroacetic acid')\n",
        "\n",
        "from chemicals import CAS_from_any, MW, Tb, Tm, Tc, Pc, Vc, Hfus, Hfs, Hfl, Hfg, S0s, S0l, S0g\n",
        "\n",
        "\n",
        "\n",
        "\n",
        "\n"
      ]
    }
  ]
}