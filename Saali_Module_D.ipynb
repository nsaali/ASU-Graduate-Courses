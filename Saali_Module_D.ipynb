{
  "nbformat": 4,
  "nbformat_minor": 0,
  "metadata": {
    "colab": {
      "name": "Saali-Module-D.ipynb",
      "provenance": [],
      "authorship_tag": "ABX9TyP2YT28N/2AI1NcwZTrevr1",
      "include_colab_link": true
    },
    "kernelspec": {
      "name": "python3",
      "display_name": "Python 3"
    },
    "language_info": {
      "name": "python"
    }
  },
  "cells": [
    {
      "cell_type": "markdown",
      "metadata": {
        "id": "view-in-github",
        "colab_type": "text"
      },
      "source": [
        "<a href=\"https://colab.research.google.com/github/nsaali/ASU-Graduate-Courses/blob/main/Saali_Module_D.ipynb\" target=\"_parent\"><img src=\"https://colab.research.google.com/assets/colab-badge.svg\" alt=\"Open In Colab\"/></a>"
      ]
    },
    {
      "cell_type": "code",
      "execution_count": 53,
      "metadata": {
        "colab": {
          "base_uri": "https://localhost:8080/"
        },
        "id": "KV-YKB_g1AYR",
        "outputId": "05f36470-e3cf-4fd4-fffe-5137aab85d40"
      },
      "outputs": [
        {
          "output_type": "stream",
          "name": "stdout",
          "text": [
            "345.15 Boiling Point\n",
            "114.02335 Molecular Weight\n",
            "258.15 Metling Point\n",
            "491.3\n",
            "3258000.0\n",
            "0.000204\n",
            "12905.0\n",
            "None\n",
            "-1069900.0\n",
            "-1031400.0\n"
          ]
        }
      ],
      "source": [
        "# Nick Saali Module D (Basics and Loops)\n",
        "\n",
        "# Some Usage as a Calculator\n",
        "\n",
        "import math\n",
        "\n",
        "# Installing Packages, Importing information\n",
        "\n",
        "##     !pip install chemicals  # Already Installed \n",
        "\n",
        "from chemicals import CAS_from_any, MW, Tb, Tm, Tc, Pc, Vc, Hfus, Hfs, Hfl, Hfg, S0s, S0l, S0g\n",
        "CAS_TFA = CAS_from_any('76-05-1')\n",
        "print(Tb(CAS_TFA), 'Boiling Point')\n",
        "print(MW(CAS_TFA), 'Molecular Weight')\n",
        "print(Tm(CAS_TFA), 'Metling Point')\n",
        "print(Tc(CAS_TFA))\n",
        "print(Pc(CAS_TFA))\n",
        "print(Vc(CAS_TFA))\n",
        "print(Hfus(CAS_TFA))\n",
        "print(Hfs(CAS_TFA))\n",
        "print(Hfl(CAS_TFA))\n",
        "print(Hfg(CAS_TFA))\n",
        "\n",
        "\n",
        "from chemicals import Antoine\n",
        "from chemicals.vapor_pressure import Psat_data_AntoinePoling\n",
        "\n",
        "\n",
        "\n",
        "\n",
        "\n",
        "\n"
      ]
    }
  ]
}