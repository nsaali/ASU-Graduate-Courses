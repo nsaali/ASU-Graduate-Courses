{
  "nbformat": 4,
  "nbformat_minor": 0,
  "metadata": {
    "colab": {
      "name": "Saali_Module1.ipynb",
      "provenance": [],
      "collapsed_sections": [],
      "authorship_tag": "ABX9TyMZhCFX+/KmmpgrVpMAgN8u",
      "include_colab_link": true
    },
    "kernelspec": {
      "name": "python3",
      "display_name": "Python 3"
    },
    "language_info": {
      "name": "python"
    }
  },
  "cells": [
    {
      "cell_type": "markdown",
      "metadata": {
        "id": "view-in-github",
        "colab_type": "text"
      },
      "source": [
        "<a href=\"https://colab.research.google.com/github/nsaali/ASU-Graduate-Courses/blob/main/Saali_Module1_Numbers.ipynb\" target=\"_parent\"><img src=\"https://colab.research.google.com/assets/colab-badge.svg\" alt=\"Open In Colab\"/></a>"
      ]
    },
    {
      "cell_type": "code",
      "execution_count": 9,
      "metadata": {
        "id": "wV--ng0DTTy1",
        "colab": {
          "base_uri": "https://localhost:8080/"
        },
        "outputId": "c29bceb6-1958-4fad-8676-e06e3b58c43a"
      },
      "outputs": [
        {
          "output_type": "stream",
          "name": "stdout",
          "text": [
            "0b110001\n"
          ]
        }
      ],
      "source": [
        "\n",
        "#Module 1_Representation of Numbers_Nick Saali\n",
        "\n",
        "#Decimal Number System\n",
        "  #Familiar Number System to represent quantities is Decimal (base10 or Denary).\n",
        "    #In Decimal, a number is represented by a list of 'digits' {0,1,2...,9}, \n",
        "    #where each digit represents the coefficient for a power of 10.\n",
        "        \n",
        "         # Example 1: \n",
        "         #   524.503 = 5*10^2 + 2*10^1 + 4*10^0 + 5*10^-1 + 0*10^-2 + 3*10^-3\n",
        "         \n",
        "         # This example shows the structure of representation for this \n",
        "         # number, where the powers of 10 are indicated by the POSITION\n",
        "         # of the digit in 524.503, hence, we call this..\n",
        "         #   'base10 positional number system'\n",
        "\n",
        "#Binary Number System\n",
        "  #A useful system for representing numbers in computers/machines is..\n",
        "  # Binary, where there are 'bits' (binary digits), rather than digits.\n",
        "  # Binary is a base2  with bits {0,1}, each digit the coefficient for power 2.\n",
        "  \n",
        "        # Example 2: \n",
        "        # 49 (base10), converted to binary 'by hand' would look like:\n",
        "        \n",
        "        # 49 / 2 = 24, r 1\n",
        "        # 24 / 2 = 12, r 0\n",
        "        # 12 / 2 = 6,  r 0\n",
        "        # 6  / 2 = 3,  r 0\n",
        "        # 3  / 2 = 1,  r 1\n",
        "        # 1  / 2 = 0,  r 1\n",
        "        # read remainder 0s and 1s upward\n",
        "        # 24(base10) = 110001(base2)\n",
        "\n",
        "        #Example 3: \n",
        "        #Let's check the above with Python and do another example:\n",
        "print(bin(49))\n",
        "\n",
        "\n",
        "\n",
        "\n",
        "\n",
        "\n"
      ]
    }
  ]
}