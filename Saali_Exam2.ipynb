{
  "nbformat": 4,
  "nbformat_minor": 0,
  "metadata": {
    "colab": {
      "name": "Saali-Exam2.ipynb",
      "provenance": [],
      "authorship_tag": "ABX9TyPSCPw4ZV0RoQEgrZ4/KTQo",
      "include_colab_link": true
    },
    "kernelspec": {
      "name": "python3",
      "display_name": "Python 3"
    },
    "language_info": {
      "name": "python"
    }
  },
  "cells": [
    {
      "cell_type": "markdown",
      "metadata": {
        "id": "view-in-github",
        "colab_type": "text"
      },
      "source": [
        "<a href=\"https://colab.research.google.com/github/nsaali/ASU-Graduate-Courses/blob/main/Saali_Exam2.ipynb\" target=\"_parent\"><img src=\"https://colab.research.google.com/assets/colab-badge.svg\" alt=\"Open In Colab\"/></a>"
      ]
    },
    {
      "cell_type": "code",
      "execution_count": 2,
      "metadata": {
        "colab": {
          "base_uri": "https://localhost:8080/"
        },
        "id": "9PI_JNkswF89",
        "outputId": "f241ed24-b971-49cd-cb30-d538f8b1dcdf"
      },
      "outputs": [
        {
          "output_type": "stream",
          "name": "stdout",
          "text": [
            "[[ 2 -1  0]\n",
            " [-1  0  1]\n",
            " [ 1 -1  2]]\n",
            "[-0.20556943+0.j          2.10278472+0.66545695j  2.10278472-0.66545695j] [[0.40280325+0.j         0.28362714+0.33935209j 0.28362714-0.33935209j]\n",
            " [0.88841055+0.j         0.19667168-0.22362186j 0.19667168+0.22362186j]\n",
            " [0.22017321+0.j         0.84599605+0.j         0.84599605-0.j        ]]\n",
            "[[ 0 -1  0 -1]\n",
            " [-1  0  1 -2]\n",
            " [ 1 -1  0  1]\n",
            " [ 0  1  1  0]]\n",
            "[-0.62481053+1.30024259j -0.62481053-1.30024259j  0.62481053+0.30024259j\n",
            "  0.62481053-0.30024259j] [[ 0.47143207+0.25276809j  0.47143207-0.25276809j  0.36365072-0.40727112j\n",
            "   0.36365072+0.40727112j]\n",
            " [ 0.67370786+0.j          0.67370786-0.j          0.18890425-0.0436204j\n",
            "   0.18890425+0.0436204j ]\n",
            " [-0.0504923 +0.21866397j -0.0504923 -0.21866397j -0.58201759+0.j\n",
            "  -0.58201759-0.j        ]\n",
            " [-0.0504923 -0.45504389j -0.0504923 +0.45504389j -0.53839719+0.18890425j\n",
            "  -0.53839719-0.18890425j]]\n",
            "[[6 1 1 7]\n",
            " [9 2 8 3]\n",
            " [9 8 3 3]\n",
            " [3 5 8 9]]\n",
            "[20.937637  +0.j          2.29718742+5.72459337j  2.29718742-5.72459337j\n",
            " -5.53201185+0.j        ] [[-0.35879186+0.j         -0.19162976-0.49159835j -0.19162976+0.49159835j\n",
            "   0.08113207+0.j        ]\n",
            " [-0.48040671+0.j         -0.25321032+0.33884901j -0.25321032-0.33884901j\n",
            "  -0.74284087+0.j        ]\n",
            " [-0.49892832+0.j         -0.25214022+0.38444509j -0.25214022-0.38444509j\n",
            "   0.65344545+0.j        ]\n",
            " [-0.62573822+0.j          0.57558861+0.j          0.57558861-0.j\n",
            "  -0.12088866+0.j        ]]\n"
          ]
        }
      ],
      "source": [
        "# Nick Saali LSC 562 Exam 2 / Final Exam\n",
        "\n",
        "# Number 1\n",
        "\n",
        "import numpy as np\n",
        "import matplotlib.pyplot as plt\n",
        "import scipy.linalg as la\n",
        "import sympy as sp\n",
        "\n",
        "# a\n",
        "A1 = np . array ([[2, -1, 0],[-1, 0, 1],[1, -1, 2]])\n",
        "print (A1)\n",
        "eigvals , eigvecs = la.eig(A1)\n",
        "print(eigvals, eigvecs)\n",
        "\n",
        "# b\n",
        "\n",
        "A2 = np . array ([[0, -1, 0, -1],[-1, 0, 1, -2],[1, -1, 0, 1], \n",
        "                 [0, 1, 1, 0]])\n",
        "print (A2)\n",
        "eigvals , eigvecs = la.eig(A2)\n",
        "print(eigvals, eigvecs)\n",
        "\n",
        "# c\n",
        "\n",
        "A3 = np . random . randint (10 , size = (4 , 4) )\n",
        "print(A3)\n",
        "eigvals, eigvecs = la.eig(A3)\n",
        "print(eigvals, eigvecs)\n",
        "\n",
        "\n",
        "\n",
        "# Number 2\n",
        "\n",
        "\n"
      ]
    }
  ]
}